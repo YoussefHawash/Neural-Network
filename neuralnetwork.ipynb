{
 "cells": [
  {
   "cell_type": "code",
   "execution_count": 30,
   "metadata": {},
   "outputs": [],
   "source": [
    "import numpy as np\n",
    "import pandas as pd\n",
    "import matplotlib.pyplot as plt"
   ]
  },
  {
   "cell_type": "code",
   "execution_count": 31,
   "metadata": {},
   "outputs": [],
   "source": [
    "data = pd.read_csv('./train.csv')"
   ]
  },
  {
   "cell_type": "code",
   "execution_count": 32,
   "metadata": {},
   "outputs": [],
   "source": [
    "split_index = int(len(data) * 0.8)\n",
    "# Manually split the data\n",
    "X_train = data.iloc[:split_index].drop(columns=\"label\").values / 255.0  # Normalize inputs\n",
    "X_test = data.iloc[split_index:].drop(columns=\"label\").values / 255.0\n",
    "y_train = data.iloc[:split_index][\"label\"]\n",
    "y_test = data.iloc[split_index:][\"label\"]\n",
    "\n"
   ]
  },
  {
   "cell_type": "code",
   "execution_count": 33,
   "metadata": {},
   "outputs": [],
   "source": [
    "def init_params():\n",
    "    W1 = np.random.randn(10, 784) * 0.01\n",
    "    b1 = np.zeros((10, 1))\n",
    "    W2 = np.random.randn(10, 10) * 0.01\n",
    "    b2 = np.zeros((10, 1))\n",
    "    return W1, b1, W2, b2"
   ]
  },
  {
   "cell_type": "code",
   "execution_count": 34,
   "metadata": {},
   "outputs": [],
   "source": [
    "def ReLU(Z):\n",
    "   return np.maximum(Z,0)\n",
    "def gReLU(Z):\n",
    "    return (Z > 0).astype(float) "
   ]
  },
  {
   "cell_type": "code",
   "execution_count": 35,
   "metadata": {},
   "outputs": [],
   "source": [
    "def softmax(Z):\n",
    "    Z = np.clip(Z, -500, 500)\n",
    "    exp_Z = np.exp(Z - np.max(Z, axis=0, keepdims=True))\n",
    "    return exp_Z / exp_Z.sum(axis=0, keepdims=True)"
   ]
  },
  {
   "cell_type": "code",
   "execution_count": 36,
   "metadata": {},
   "outputs": [],
   "source": [
    "def get_predictions(A2):\n",
    "    return np.argmax(A2, 0)"
   ]
  },
  {
   "cell_type": "code",
   "execution_count": 37,
   "metadata": {},
   "outputs": [],
   "source": [
    "def forward_prop(X,W1,b1,W2,b2):\n",
    "      Z1=np.dot(W1,X)+b1\n",
    "      A1= ReLU(Z1)\n",
    "      Z2= np.dot(W2,A1)+b2\n",
    "      A2= softmax(Z2)\n",
    "      return Z1,A1,Z2,A2"
   ]
  },
  {
   "cell_type": "code",
   "execution_count": 38,
   "metadata": {},
   "outputs": [],
   "source": [
    "def one_hot(Y, num_classes):\n",
    "    one_hot_Y = np.zeros((num_classes, Y.size))\n",
    "    one_hot_Y[Y, np.arange(Y.size)] = 1\n",
    "    return one_hot_Y"
   ]
  },
  {
   "cell_type": "code",
   "execution_count": 39,
   "metadata": {},
   "outputs": [],
   "source": [
    "def backward_prop(A2, A1, W2, Z1, X, Y):\n",
    "    m = Y.shape[1]\n",
    "    dZ2 = A2 - Y\n",
    "    dW2 = np.dot(dZ2, A1.T) / m\n",
    "    db2 = np.sum(dZ2, axis=1, keepdims=True) / m\n",
    "    dZ1 = np.dot(W2.T, dZ2) * gReLU(Z1)\n",
    "    dW1 = np.dot(dZ1, X.T) / m\n",
    "    db1 = np.sum(dZ1, axis=1, keepdims=True) / m\n",
    "    return dW1, db1, dW2, db2"
   ]
  },
  {
   "cell_type": "code",
   "execution_count": 40,
   "metadata": {},
   "outputs": [],
   "source": [
    "def update_params(W1, b1, W2, b2, dW1, db1, dW2, db2, alpha):\n",
    "    W1 = W1 - alpha * dW1\n",
    "    b1 = b1 - alpha * db1    \n",
    "    W2 = W2 - alpha * dW2  \n",
    "    b2 = b2 - alpha * db2    \n",
    "    return W1, b1, W2, b2"
   ]
  },
  {
   "cell_type": "code",
   "execution_count": 41,
   "metadata": {},
   "outputs": [],
   "source": [
    "def get_accuracy(predictions, Y):\n",
    "   return np.mean(predictions == Y)\n"
   ]
  },
  {
   "cell_type": "code",
   "execution_count": 42,
   "metadata": {},
   "outputs": [],
   "source": [
    "def gradient_descent(X, Y, alpha, iterations):\n",
    "   W1, b1, W2, b2 = init_params()\n",
    "   Y_one_hot = one_hot(Y,10)\n",
    "   for i in range(iterations):\n",
    "        Z1,A1,Z2,A2 = forward_prop(X, W1, b1, W2, b2)\n",
    "        dW1, db1, dW2, db2 = backward_prop(A2, A1, W2, Z1, X, Y_one_hot) \n",
    "        W1, b1, W2, b2 = update_params(W1, b1, W2, b2, dW1, db1, dW2, db2, alpha)\n",
    "        if i % 10 == 0:\n",
    "            predictions = get_predictions(A2)\n",
    "            acc = get_accuracy(predictions, Y)\n",
    "            print(f\"Iteration {i}: Accuracy = {acc:.4f}\")\n",
    "   predictions = get_predictions(A2)\n",
    "   print(\"Final Accuracy: \", get_accuracy(predictions, Y))\n",
    "   return W1, b1, W2, b2"
   ]
  },
  {
   "cell_type": "code",
   "execution_count": 43,
   "metadata": {},
   "outputs": [
    {
     "name": "stdout",
     "output_type": "stream",
     "text": [
      "Iteration 0: Accuracy = 0.1177\n",
      "Iteration 10: Accuracy = 0.1154\n",
      "Iteration 20: Accuracy = 0.1175\n",
      "Iteration 30: Accuracy = 0.2405\n",
      "Iteration 40: Accuracy = 0.3635\n",
      "Iteration 50: Accuracy = 0.3711\n",
      "Iteration 60: Accuracy = 0.3490\n",
      "Iteration 70: Accuracy = 0.3490\n",
      "Iteration 80: Accuracy = 0.3881\n",
      "Iteration 90: Accuracy = 0.4769\n",
      "Iteration 100: Accuracy = 0.5737\n",
      "Iteration 110: Accuracy = 0.6243\n",
      "Iteration 120: Accuracy = 0.6559\n",
      "Iteration 130: Accuracy = 0.6880\n",
      "Iteration 140: Accuracy = 0.7151\n",
      "Iteration 150: Accuracy = 0.7379\n",
      "Iteration 160: Accuracy = 0.7574\n",
      "Iteration 170: Accuracy = 0.7721\n",
      "Iteration 180: Accuracy = 0.7851\n",
      "Iteration 190: Accuracy = 0.7954\n",
      "Iteration 200: Accuracy = 0.8057\n",
      "Iteration 210: Accuracy = 0.8146\n",
      "Iteration 220: Accuracy = 0.8228\n",
      "Iteration 230: Accuracy = 0.8289\n",
      "Iteration 240: Accuracy = 0.8349\n",
      "Iteration 250: Accuracy = 0.8403\n",
      "Iteration 260: Accuracy = 0.8433\n",
      "Iteration 270: Accuracy = 0.8479\n",
      "Iteration 280: Accuracy = 0.8515\n",
      "Iteration 290: Accuracy = 0.8544\n",
      "Iteration 300: Accuracy = 0.8575\n",
      "Iteration 310: Accuracy = 0.8607\n",
      "Iteration 320: Accuracy = 0.8634\n",
      "Iteration 330: Accuracy = 0.8660\n",
      "Iteration 340: Accuracy = 0.8682\n",
      "Iteration 350: Accuracy = 0.8706\n",
      "Iteration 360: Accuracy = 0.8725\n",
      "Iteration 370: Accuracy = 0.8746\n",
      "Iteration 380: Accuracy = 0.8769\n",
      "Iteration 390: Accuracy = 0.8789\n",
      "Iteration 400: Accuracy = 0.8798\n",
      "Iteration 410: Accuracy = 0.8815\n",
      "Iteration 420: Accuracy = 0.8828\n",
      "Iteration 430: Accuracy = 0.8839\n",
      "Iteration 440: Accuracy = 0.8853\n",
      "Iteration 450: Accuracy = 0.8865\n",
      "Iteration 460: Accuracy = 0.8881\n",
      "Iteration 470: Accuracy = 0.8888\n",
      "Iteration 480: Accuracy = 0.8894\n",
      "Iteration 490: Accuracy = 0.8901\n",
      "Final Accuracy:  0.8908630952380953\n"
     ]
    }
   ],
   "source": [
    "W1, b1, W2, b2 = gradient_descent(X_train.T, y_train, 0.10, 500)"
   ]
  }
 ],
 "metadata": {
  "kernelspec": {
   "display_name": ".venv",
   "language": "python",
   "name": "python3"
  },
  "language_info": {
   "codemirror_mode": {
    "name": "ipython",
    "version": 3
   },
   "file_extension": ".py",
   "mimetype": "text/x-python",
   "name": "python",
   "nbconvert_exporter": "python",
   "pygments_lexer": "ipython3",
   "version": "3.12.3"
  }
 },
 "nbformat": 4,
 "nbformat_minor": 2
}
